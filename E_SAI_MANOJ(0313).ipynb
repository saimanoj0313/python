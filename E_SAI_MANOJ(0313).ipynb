{
  "nbformat": 4,
  "nbformat_minor": 0,
  "metadata": {
    "colab": {
      "provenance": [],
      "authorship_tag": "ABX9TyNbWIaKnjF5qB84MJ7cpPgj",
      "include_colab_link": true
    },
    "kernelspec": {
      "name": "python3",
      "display_name": "Python 3"
    },
    "language_info": {
      "name": "python"
    }
  },
  "cells": [
    {
      "cell_type": "markdown",
      "metadata": {
        "id": "view-in-github",
        "colab_type": "text"
      },
      "source": [
        "<a href=\"https://colab.research.google.com/github/saimanoj0313/python/blob/main/E_SAI_MANOJ(0313).ipynb\" target=\"_parent\"><img src=\"https://colab.research.google.com/assets/colab-badge.svg\" alt=\"Open In Colab\"/></a>"
      ]
    },
    {
      "cell_type": "code",
      "execution_count": 1,
      "metadata": {
        "colab": {
          "base_uri": "https://localhost:8080/"
        },
        "id": "VeGOaNZGmvTi",
        "outputId": "e9687e27-3cee-4fa1-ba23-aeef944903f9"
      },
      "outputs": [
        {
          "output_type": "execute_result",
          "data": {
            "text/plain": [
              "(2, 4, 7)"
            ]
          },
          "metadata": {},
          "execution_count": 1
        }
      ],
      "source": [
        "L = [2,4,7]\n",
        "iterator = iter(L)\n",
        "t = tuple(iterator)\n",
        "t"
      ]
    },
    {
      "cell_type": "code",
      "source": [
        "m = {'Jan': 1, 'Feb': 2, 'Mar': 3, 'Apr': 4, 'May': 5, 'Jun': 6, 'Jul': 7, 'Aug': 8, 'Sep': 9, 'Oct': 10, 'Nov': 11, 'Dec': 12}\n",
        "for key in m:\n",
        "  print(key, m[key])\n"
      ],
      "metadata": {
        "colab": {
          "base_uri": "https://localhost:8080/"
        },
        "id": "C5vll5CzmzJP",
        "outputId": "101a5a14-e24c-4b66-90ad-6c37d95fcf9d"
      },
      "execution_count": 2,
      "outputs": [
        {
          "output_type": "stream",
          "name": "stdout",
          "text": [
            "Jan 1\n",
            "Feb 2\n",
            "Mar 3\n",
            "Apr 4\n",
            "May 5\n",
            "Jun 6\n",
            "Jul 7\n",
            "Aug 8\n",
            "Sep 9\n",
            "Oct 10\n",
            "Nov 11\n",
            "Dec 12\n"
          ]
        }
      ]
    },
    {
      "cell_type": "code",
      "source": [
        "l=[3,4,6]\n",
        "[2*i for i in l]"
      ],
      "metadata": {
        "colab": {
          "base_uri": "https://localhost:8080/"
        },
        "id": "Qw5nY89ym1_x",
        "outputId": "7650aff0-6ee2-4e08-fcbd-685e6ad9a7f7"
      },
      "execution_count": 3,
      "outputs": [
        {
          "output_type": "execute_result",
          "data": {
            "text/plain": [
              "[6, 8, 12]"
            ]
          },
          "metadata": {},
          "execution_count": 3
        }
      ]
    },
    {
      "cell_type": "code",
      "source": [
        "l=[7,9,4]\n",
        "for i in l:\n",
        "  x=2*i\n",
        "  print(x)"
      ],
      "metadata": {
        "colab": {
          "base_uri": "https://localhost:8080/"
        },
        "id": "HO4JDg9em7YS",
        "outputId": "0e69fe47-1ee4-447b-8078-83f1ea51734e"
      },
      "execution_count": 4,
      "outputs": [
        {
          "output_type": "stream",
          "name": "stdout",
          "text": [
            "14\n",
            "18\n",
            "8\n"
          ]
        }
      ]
    },
    {
      "cell_type": "code",
      "source": [
        "[2*i for i in l]"
      ],
      "metadata": {
        "colab": {
          "base_uri": "https://localhost:8080/"
        },
        "id": "stPY7UwLm9ym",
        "outputId": "28343cfa-514c-49ac-cb35-79461a0bea8f"
      },
      "execution_count": 5,
      "outputs": [
        {
          "output_type": "execute_result",
          "data": {
            "text/plain": [
              "[14, 18, 8]"
            ]
          },
          "metadata": {},
          "execution_count": 5
        }
      ]
    },
    {
      "cell_type": "code",
      "source": [
        "L = [('India', 'Amsterdam'), ('ameria', 'Paris'), ('london', 'Washington DC')]\n",
        "dict(iter(L))"
      ],
      "metadata": {
        "colab": {
          "base_uri": "https://localhost:8080/"
        },
        "id": "NaCCSI5GnBba",
        "outputId": "a7f70d5f-6c4d-4e56-c001-6803a32a7c54"
      },
      "execution_count": 6,
      "outputs": [
        {
          "output_type": "execute_result",
          "data": {
            "text/plain": [
              "{'India': 'Amsterdam', 'ameria': 'Paris', 'london': 'Washington DC'}"
            ]
          },
          "metadata": {},
          "execution_count": 6
        }
      ]
    },
    {
      "cell_type": "code",
      "source": [
        "line_list=['presidency university\\n','pyhton department \\n','dept of bca \\n','\\n']\n",
        "stripped_list = [line.strip() for line in line_list]\n",
        "print(stripped_list)"
      ],
      "metadata": {
        "colab": {
          "base_uri": "https://localhost:8080/"
        },
        "id": "oYgpHUHnnEpE",
        "outputId": "a5f25125-cde3-4a50-a319-880c34a31ad9"
      },
      "execution_count": 7,
      "outputs": [
        {
          "output_type": "stream",
          "name": "stdout",
          "text": [
            "['presidency university', 'pyhton department', 'dept of bca', '']\n"
          ]
        }
      ]
    },
    {
      "cell_type": "code",
      "source": [
        "seq1 = 'abc'\n",
        "seq2 = (7,5,6)\n",
        "[(x, y) for x in seq1 for y in seq2]"
      ],
      "metadata": {
        "colab": {
          "base_uri": "https://localhost:8080/"
        },
        "id": "H2wFKXP7nHcb",
        "outputId": "b8618d01-1655-4c4f-fb09-0b619fea80e7"
      },
      "execution_count": 8,
      "outputs": [
        {
          "output_type": "execute_result",
          "data": {
            "text/plain": [
              "[('a', 7),\n",
              " ('a', 5),\n",
              " ('a', 6),\n",
              " ('b', 7),\n",
              " ('b', 5),\n",
              " ('b', 6),\n",
              " ('c', 7),\n",
              " ('c', 5),\n",
              " ('c', 6)]"
            ]
          },
          "metadata": {},
          "execution_count": 8
        }
      ]
    },
    {
      "cell_type": "code",
      "source": [
        "def generate_ints(N):\n",
        "  for i in range(N):\n",
        "    yield i\n",
        "\n",
        "\n",
        "gen=generate_ints(6)\n",
        "next(gen)"
      ],
      "metadata": {
        "colab": {
          "base_uri": "https://localhost:8080/"
        },
        "id": "olvo1a_NnKQz",
        "outputId": "0ee11433-c0fa-468c-c138-0842b37cca09"
      },
      "execution_count": 9,
      "outputs": [
        {
          "output_type": "execute_result",
          "data": {
            "text/plain": [
              "0"
            ]
          },
          "metadata": {},
          "execution_count": 9
        }
      ]
    },
    {
      "cell_type": "code",
      "source": [
        "next(gen)"
      ],
      "metadata": {
        "colab": {
          "base_uri": "https://localhost:8080/"
        },
        "id": "qi0FdfOmnRQ6",
        "outputId": "d556f0a6-f71f-4ae5-d83a-fce4cdc5684b"
      },
      "execution_count": 10,
      "outputs": [
        {
          "output_type": "execute_result",
          "data": {
            "text/plain": [
              "1"
            ]
          },
          "metadata": {},
          "execution_count": 10
        }
      ]
    },
    {
      "cell_type": "code",
      "source": [
        "next(gen)"
      ],
      "metadata": {
        "colab": {
          "base_uri": "https://localhost:8080/"
        },
        "id": "6flF6ihinVlP",
        "outputId": "92188581-1b96-47ab-fdea-bebfbee45c2f"
      },
      "execution_count": 11,
      "outputs": [
        {
          "output_type": "execute_result",
          "data": {
            "text/plain": [
              "2"
            ]
          },
          "metadata": {},
          "execution_count": 11
        }
      ]
    },
    {
      "cell_type": "code",
      "source": [
        "def counter(maximum):\n",
        "    i = 0\n",
        "    while i < maximum:\n",
        "        val = (yield i)\n",
        "        # If value provided, change counter\n",
        "        if val is not None:\n",
        "            i = val\n",
        "        else:\n",
        "            i += 1\n",
        "\n",
        "\n",
        "\n",
        "it = counter(20)\n",
        "next(it)"
      ],
      "metadata": {
        "colab": {
          "base_uri": "https://localhost:8080/"
        },
        "id": "0tzgKPcXnWdb",
        "outputId": "d365b066-ace3-4f1d-877c-7e747f0ed02e"
      },
      "execution_count": 12,
      "outputs": [
        {
          "output_type": "execute_result",
          "data": {
            "text/plain": [
              "0"
            ]
          },
          "metadata": {},
          "execution_count": 12
        }
      ]
    },
    {
      "cell_type": "code",
      "source": [
        "next(it)"
      ],
      "metadata": {
        "colab": {
          "base_uri": "https://localhost:8080/"
        },
        "id": "aR7msy1rnZan",
        "outputId": "5329c580-4b1f-486c-d073-d927f1a6fd72"
      },
      "execution_count": 13,
      "outputs": [
        {
          "output_type": "execute_result",
          "data": {
            "text/plain": [
              "1"
            ]
          },
          "metadata": {},
          "execution_count": 13
        }
      ]
    },
    {
      "cell_type": "code",
      "source": [
        "it.send(8)"
      ],
      "metadata": {
        "colab": {
          "base_uri": "https://localhost:8080/"
        },
        "id": "CQm8h0zgnbcs",
        "outputId": "1d5de1e5-e206-4617-f20e-68fa1bf8ba3b"
      },
      "execution_count": 14,
      "outputs": [
        {
          "output_type": "execute_result",
          "data": {
            "text/plain": [
              "8"
            ]
          },
          "metadata": {},
          "execution_count": 14
        }
      ]
    },
    {
      "cell_type": "code",
      "source": [
        "it.send(18)"
      ],
      "metadata": {
        "colab": {
          "base_uri": "https://localhost:8080/"
        },
        "id": "srCbrK1lnd8L",
        "outputId": "716b0a34-8e36-4a12-ff6e-95d1137893d8"
      },
      "execution_count": 15,
      "outputs": [
        {
          "output_type": "execute_result",
          "data": {
            "text/plain": [
              "18"
            ]
          },
          "metadata": {},
          "execution_count": 15
        }
      ]
    },
    {
      "cell_type": "code",
      "source": [
        "next(it)"
      ],
      "metadata": {
        "colab": {
          "base_uri": "https://localhost:8080/"
        },
        "id": "KasMlLrMno4H",
        "outputId": "d0cdcc30-6e0c-4052-cd6f-ec70084afc59"
      },
      "execution_count": 16,
      "outputs": [
        {
          "output_type": "execute_result",
          "data": {
            "text/plain": [
              "19"
            ]
          },
          "metadata": {},
          "execution_count": 16
        }
      ]
    },
    {
      "cell_type": "code",
      "source": [
        "def upper(s):\n",
        "  return s.upper()\n",
        "\n",
        "list(map(upper, ['sentence', 'fragment']))"
      ],
      "metadata": {
        "colab": {
          "base_uri": "https://localhost:8080/"
        },
        "id": "1Y-pJqEDnrtL",
        "outputId": "ff83ecee-55be-4790-f57b-d899e95a475d"
      },
      "execution_count": 17,
      "outputs": [
        {
          "output_type": "execute_result",
          "data": {
            "text/plain": [
              "['SENTENCE', 'FRAGMENT']"
            ]
          },
          "metadata": {},
          "execution_count": 17
        }
      ]
    },
    {
      "cell_type": "code",
      "source": [
        "[upper(s) for s in ['sentence', 'fragment']]"
      ],
      "metadata": {
        "colab": {
          "base_uri": "https://localhost:8080/"
        },
        "id": "aUBsJaXxnvEu",
        "outputId": "73affb90-502e-48cc-bf37-ee7648a8a922"
      },
      "execution_count": 18,
      "outputs": [
        {
          "output_type": "execute_result",
          "data": {
            "text/plain": [
              "['SENTENCE', 'FRAGMENT']"
            ]
          },
          "metadata": {},
          "execution_count": 18
        }
      ]
    },
    {
      "cell_type": "code",
      "source": [
        "def is_even(x):\n",
        "  return (x % 2) == 0\n",
        "list(filter(is_even, range(20)))"
      ],
      "metadata": {
        "colab": {
          "base_uri": "https://localhost:8080/"
        },
        "id": "CyyknQPLnyRH",
        "outputId": "0a066a0e-e723-47fe-fb19-bb35f0c6f63b"
      },
      "execution_count": 19,
      "outputs": [
        {
          "output_type": "execute_result",
          "data": {
            "text/plain": [
              "[0, 2, 4, 6, 8, 10, 12, 14, 16, 18]"
            ]
          },
          "metadata": {},
          "execution_count": 19
        }
      ]
    },
    {
      "cell_type": "code",
      "source": [
        "list(x for x in range(20) if is_even(x))"
      ],
      "metadata": {
        "colab": {
          "base_uri": "https://localhost:8080/"
        },
        "id": "bMaZXxThn1zp",
        "outputId": "ef09a3ae-83a8-44cb-dcb0-433eefae36c1"
      },
      "execution_count": 20,
      "outputs": [
        {
          "output_type": "execute_result",
          "data": {
            "text/plain": [
              "[0, 2, 4, 6, 8, 10, 12, 14, 16, 18]"
            ]
          },
          "metadata": {},
          "execution_count": 20
        }
      ]
    },
    {
      "cell_type": "code",
      "source": [
        "for item in enumerate(['A', 'B', 'C']):\n",
        "  print(item)\n"
      ],
      "metadata": {
        "colab": {
          "base_uri": "https://localhost:8080/"
        },
        "id": "hmAN2ftWn4Xr",
        "outputId": "11c57293-0c67-4e9a-b9d6-b2b91e400b06"
      },
      "execution_count": 21,
      "outputs": [
        {
          "output_type": "stream",
          "name": "stdout",
          "text": [
            "(0, 'A')\n",
            "(1, 'B')\n",
            "(2, 'C')\n"
          ]
        }
      ]
    },
    {
      "cell_type": "code",
      "source": [
        "import random\n",
        "rand_list = random.sample(range(20000), 9)\n",
        "rand_list"
      ],
      "metadata": {
        "colab": {
          "base_uri": "https://localhost:8080/"
        },
        "id": "Qz_omX6Rn6ii",
        "outputId": "936f172b-3671-4042-955a-fbec3039679e"
      },
      "execution_count": 22,
      "outputs": [
        {
          "output_type": "execute_result",
          "data": {
            "text/plain": [
              "[6486, 13614, 5356, 12842, 73, 7534, 18867, 5427, 10110]"
            ]
          },
          "metadata": {},
          "execution_count": 22
        }
      ]
    },
    {
      "cell_type": "code",
      "source": [
        "sorted(rand_list)"
      ],
      "metadata": {
        "colab": {
          "base_uri": "https://localhost:8080/"
        },
        "id": "edSvqi5_oRXP",
        "outputId": "81e3bc0c-cb7c-4aa3-ddc8-978c864288c9"
      },
      "execution_count": 23,
      "outputs": [
        {
          "output_type": "execute_result",
          "data": {
            "text/plain": [
              "[73, 5356, 5427, 6486, 7534, 10110, 12842, 13614, 18867]"
            ]
          },
          "metadata": {},
          "execution_count": 23
        }
      ]
    },
    {
      "cell_type": "code",
      "source": [
        "sorted(rand_list, reverse=True)"
      ],
      "metadata": {
        "colab": {
          "base_uri": "https://localhost:8080/"
        },
        "id": "HV6-UNaioT6s",
        "outputId": "0868a4e7-4655-4ef3-e504-c9782f986bc6"
      },
      "execution_count": 24,
      "outputs": [
        {
          "output_type": "execute_result",
          "data": {
            "text/plain": [
              "[18867, 13614, 12842, 10110, 7534, 6486, 5427, 5356, 73]"
            ]
          },
          "metadata": {},
          "execution_count": 24
        }
      ]
    },
    {
      "cell_type": "code",
      "source": [
        "zip(['x','y','z'], (2,4,6,))"
      ],
      "metadata": {
        "colab": {
          "base_uri": "https://localhost:8080/"
        },
        "id": "CuynXON2oWm_",
        "outputId": "c50327d9-a112-42ac-e86c-bc822d417c16"
      },
      "execution_count": 25,
      "outputs": [
        {
          "output_type": "execute_result",
          "data": {
            "text/plain": [
              "<zip at 0x7b4b1cf17bc0>"
            ]
          },
          "metadata": {},
          "execution_count": 25
        }
      ]
    },
    {
      "cell_type": "code",
      "source": [
        "from functools import partial\n",
        "\n",
        "def power(a, b):\n",
        "\treturn a**b\n",
        "\n",
        "\n",
        "# partial functions\n",
        "pow2 = partial(power, b=2)\n",
        "pow4 = partial(power, b=4)\n",
        "power_of_5 = partial(power, 5)\n",
        "\n",
        "print(power(5, 3))\n",
        "print(pow2(5))\n",
        "print(pow4(3))\n",
        "print(power_of_5(6))\n",
        "\n",
        "print('Function used in partial function pow2 :', pow2.func)\n",
        "print('Default keywords for pow2 :', pow2.keywords)\n",
        "print('Default arguments for power_of_5 :', power_of_5.args)\n"
      ],
      "metadata": {
        "colab": {
          "base_uri": "https://localhost:8080/"
        },
        "id": "-NTJTeuBoZBf",
        "outputId": "663f3c2f-98c6-4085-f0bb-b1cd348f129b"
      },
      "execution_count": 27,
      "outputs": [
        {
          "output_type": "stream",
          "name": "stdout",
          "text": [
            "125\n",
            "25\n",
            "81\n",
            "15625\n",
            "Function used in partial function pow2 : <function power at 0x7b4b1cec7520>\n",
            "Default keywords for pow2 : {'b': 2}\n",
            "Default arguments for power_of_5 : (5,)\n"
          ]
        }
      ]
    },
    {
      "cell_type": "code",
      "source": [
        "from functools import partialmethod\n",
        "\n",
        "class Demo:\n",
        "\tdef __init__(self):\n",
        "\t\tself.color = 'black'\n",
        "\n",
        "\tdef _color(self, type):\n",
        "\t\tself.color = type\n",
        "\n",
        "\tset_red = partialmethod(_color, type='red')\n",
        "\tset_blue = partialmethod(_color, type='blue')\n",
        "\tset_green = partialmethod(_color, type='green')\n",
        "\n",
        "\n",
        "obj = Demo()\n",
        "print(obj.color)\n",
        "\n",
        "obj.set_blue()\n",
        "print(obj.color)\n",
        "\n",
        "obj.set_red()\n",
        "print(obj.color)\n",
        "\n",
        "obj.set_green()\n",
        "print(obj.color)"
      ],
      "metadata": {
        "colab": {
          "base_uri": "https://localhost:8080/"
        },
        "id": "VaonpcNuoksG",
        "outputId": "1ed3f0e4-ece6-4db6-c1e5-0421e2dc50ec"
      },
      "execution_count": 28,
      "outputs": [
        {
          "output_type": "stream",
          "name": "stdout",
          "text": [
            "black\n",
            "blue\n",
            "red\n",
            "green\n"
          ]
        }
      ]
    },
    {
      "cell_type": "code",
      "source": [
        "from functools import cmp_to_key\n",
        "\n",
        "def cmp_fun(a, b):\n",
        "\tif a[-1] > b[-1]:\n",
        "\t\treturn 1\n",
        "\telif a[-1] < b[-1]:\n",
        "\t\treturn -1\n",
        "\telse:\n",
        "\t\treturn 0\n",
        "\n",
        "list1 = ['X', 'Y', 'R']\n",
        "l = sorted(list1, key = cmp_to_key(cmp_fun))\n",
        "print('sorted list :', l)\n"
      ],
      "metadata": {
        "colab": {
          "base_uri": "https://localhost:8080/"
        },
        "id": "OLKJP4SQopLS",
        "outputId": "301f16ba-2ed6-4a7d-cd34-7a484fdc2d07"
      },
      "execution_count": 29,
      "outputs": [
        {
          "output_type": "stream",
          "name": "stdout",
          "text": [
            "sorted list : ['R', 'X', 'Y']\n"
          ]
        }
      ]
    },
    {
      "cell_type": "code",
      "source": [
        "from functools import reduce\n",
        "list1 = [4, 8, 5, 4, 7, 6]\n",
        "sum_of_list1 = reduce(lambda a, b:a + b, list1)\n",
        "\n",
        "list2 = [\"abc\", \"xyz\", \"def\"]\n",
        "max_of_list2 = reduce(lambda a, b:a if a>b else b, list2)\n",
        "\n",
        "print('Sum of list1 :', sum_of_list1)\n",
        "print('Maximum of list2 :', max_of_list2)"
      ],
      "metadata": {
        "colab": {
          "base_uri": "https://localhost:8080/"
        },
        "id": "tX4vDA_2otgT",
        "outputId": "c82b26cc-d457-4020-d511-1162f87c9b72"
      },
      "execution_count": 30,
      "outputs": [
        {
          "output_type": "stream",
          "name": "stdout",
          "text": [
            "Sum of list1 : 34\n",
            "Maximum of list2 : xyz\n"
          ]
        }
      ]
    },
    {
      "cell_type": "code",
      "source": [
        "from functools import total_ordering\n",
        "\n",
        "@total_ordering\n",
        "class N:\n",
        "\tdef __init__(self, value):\n",
        "\t\tself.value = value\n",
        "\tdef __eq__(self, other):\n",
        "\t\treturn self.value == other.value\n",
        "\n",
        "\tdef __lt__(self, other):\n",
        "\t\treturn self.value > other.value\n",
        "\n",
        "\n",
        "print('8 > 2 :', N(8)>N(2))\n",
        "print('4 < 1 :', N(4)<N(1))\n",
        "print('4 <= 7 :', N(4)<= N(7))\n",
        "print('9 >= 10 :', N(9)>= N(10))\n",
        "print('10 == 10 :', N(10)== N(10))\n"
      ],
      "metadata": {
        "colab": {
          "base_uri": "https://localhost:8080/"
        },
        "id": "se4ZNGMHowcP",
        "outputId": "59b1f8b4-348c-4ba3-c38e-7dafa38a894f"
      },
      "execution_count": 31,
      "outputs": [
        {
          "output_type": "stream",
          "name": "stdout",
          "text": [
            "8 > 2 : False\n",
            "4 < 1 : True\n",
            "4 <= 7 : False\n",
            "9 >= 10 : True\n",
            "10 == 10 : True\n"
          ]
        }
      ]
    },
    {
      "cell_type": "code",
      "source": [
        "from itertools import count\n",
        "\n",
        "for number in count(start=1, step=2):\n",
        "\tif number > 40:\n",
        "\t\tbreak\n",
        "\tprint(number)\n"
      ],
      "metadata": {
        "colab": {
          "base_uri": "https://localhost:8080/"
        },
        "id": "HfZBbFvQo0a2",
        "outputId": "7b5f964b-cc78-4bbc-e2d3-02decc60c5fe"
      },
      "execution_count": 32,
      "outputs": [
        {
          "output_type": "stream",
          "name": "stdout",
          "text": [
            "1\n",
            "3\n",
            "5\n",
            "7\n",
            "9\n",
            "11\n",
            "13\n",
            "15\n",
            "17\n",
            "19\n",
            "21\n",
            "23\n",
            "25\n",
            "27\n",
            "29\n",
            "31\n",
            "33\n",
            "35\n",
            "37\n",
            "39\n"
          ]
        }
      ]
    },
    {
      "cell_type": "code",
      "source": [
        "import itertools\n",
        "for i in itertools.count(5, 5):\n",
        "\tif i == 35:\n",
        "\t\tbreak\n",
        "\telse:\n",
        "\t\tprint(i, end=\" \")\n",
        "\n"
      ],
      "metadata": {
        "colab": {
          "base_uri": "https://localhost:8080/"
        },
        "id": "fBhnyrLZo35P",
        "outputId": "5bc2da9b-7059-46f1-d41d-c581176cd23c"
      },
      "execution_count": 33,
      "outputs": [
        {
          "output_type": "stream",
          "name": "stdout",
          "text": [
            "5 10 15 20 25 30 "
          ]
        }
      ]
    },
    {
      "cell_type": "code",
      "source": [
        " import  itertools\n",
        "\n",
        "count = 0\n",
        "\n",
        "for i in itertools.cycle('XY'):\n",
        "\tif count > 8:\n",
        "\t\tbreak\n",
        "\telse:\n",
        "\t\tprint(i, end=\" \")\n",
        "\t\tcount += 1"
      ],
      "metadata": {
        "colab": {
          "base_uri": "https://localhost:8080/"
        },
        "id": "J8PnVfq_o6WU",
        "outputId": "89ad4be7-64e0-4a84-a155-cf63137d0a32"
      },
      "execution_count": 47,
      "outputs": [
        {
          "output_type": "stream",
          "name": "stdout",
          "text": [
            "X Y X Y X Y X Y X "
          ]
        }
      ]
    },
    {
      "cell_type": "code",
      "source": [
        "import itertools\n",
        "\n",
        "l = ['BCA', 'MCA', 'EEE']\n",
        "\n",
        "iterators = itertools.cycle(l)\n",
        "\n",
        "for i in range(8):\n",
        "\n",
        "\tprint(next(iterators), end=\" \")"
      ],
      "metadata": {
        "colab": {
          "base_uri": "https://localhost:8080/"
        },
        "id": "-_uCe9ldo-ff",
        "outputId": "2f62ac8a-f1e9-4c93-f7cd-d06a5b5363cb"
      },
      "execution_count": 48,
      "outputs": [
        {
          "output_type": "stream",
          "name": "stdout",
          "text": [
            "BCA MCA EEE BCA MCA EEE BCA MCA "
          ]
        }
      ]
    },
    {
      "cell_type": "code",
      "source": [
        "import itertools\n",
        "\n",
        "print(\"Printing the numbers repeatedly : \")\n",
        "print(list(itertools.repeat(25, 9)))\n"
      ],
      "metadata": {
        "colab": {
          "base_uri": "https://localhost:8080/"
        },
        "id": "DGKTIAzCp940",
        "outputId": "2730d524-6b2b-40ba-977c-746351979138"
      },
      "execution_count": 49,
      "outputs": [
        {
          "output_type": "stream",
          "name": "stdout",
          "text": [
            "Printing the numbers repeatedly : \n",
            "[25, 25, 25, 25, 25, 25, 25, 25, 25]\n"
          ]
        }
      ]
    },
    {
      "cell_type": "code",
      "source": [
        "from itertools import product\n",
        "\n",
        "print(\"The cartesian product using repeat:\")\n",
        "print(list(product([1, 2], repeat=2)))\n",
        "print()\n",
        "\n",
        "print(\"The cartesian product of the containers:\")\n",
        "print(list(product(['BCA', 'CSE', 'EEE'], '2')))\n",
        "print()\n",
        "\n",
        "print(\"The cartesian product of the containers:\")\n",
        "print(list(product('AB', [4, 6])))\n"
      ],
      "metadata": {
        "colab": {
          "base_uri": "https://localhost:8080/"
        },
        "id": "-41vg6q-p-3B",
        "outputId": "1439d0c0-68fe-4766-bdb2-e795e6f9f15c"
      },
      "execution_count": 50,
      "outputs": [
        {
          "output_type": "stream",
          "name": "stdout",
          "text": [
            "The cartesian product using repeat:\n",
            "[(1, 1), (1, 2), (2, 1), (2, 2)]\n",
            "\n",
            "The cartesian product of the containers:\n",
            "[('BCA', '2'), ('CSE', '2'), ('EEE', '2')]\n",
            "\n",
            "The cartesian product of the containers:\n",
            "[('A', 4), ('A', 6), ('B', 4), ('B', 6)]\n"
          ]
        }
      ]
    },
    {
      "cell_type": "code",
      "source": [
        "from itertools import permutations\n",
        "\n",
        "print(\"All the permutations of the given list is:\")\n",
        "print(list(permutations([3, 'Computer'], 2)))\n",
        "print()\n",
        "\n",
        "print(\"All the permutations of the given string is:\")\n",
        "print(list(permutations('XY')))\n",
        "print()\n",
        "\n",
        "print(\"All the permutations of the given container is:\")\n",
        "print(list(permutations(range(6), 2)))\n"
      ],
      "metadata": {
        "colab": {
          "base_uri": "https://localhost:8080/"
        },
        "id": "tw5QnEu9qBIW",
        "outputId": "b61d9846-a4ca-42d8-a37a-8b4b9a83bb5a"
      },
      "execution_count": 51,
      "outputs": [
        {
          "output_type": "stream",
          "name": "stdout",
          "text": [
            "All the permutations of the given list is:\n",
            "[(3, 'Computer'), ('Computer', 3)]\n",
            "\n",
            "All the permutations of the given string is:\n",
            "[('X', 'Y'), ('Y', 'X')]\n",
            "\n",
            "All the permutations of the given container is:\n",
            "[(0, 1), (0, 2), (0, 3), (0, 4), (0, 5), (1, 0), (1, 2), (1, 3), (1, 4), (1, 5), (2, 0), (2, 1), (2, 3), (2, 4), (2, 5), (3, 0), (3, 1), (3, 2), (3, 4), (3, 5), (4, 0), (4, 1), (4, 2), (4, 3), (4, 5), (5, 0), (5, 1), (5, 2), (5, 3), (5, 4)]\n"
          ]
        }
      ]
    },
    {
      "cell_type": "code",
      "source": [
        "from itertools import combinations\n",
        "\n",
        "print (\"All the combination of list in sorted order(without replacement) is:\")\n",
        "print(list(combinations(['A', 2], 2)))\n",
        "print()\n",
        "\n",
        "print (\"All the combination of string in sorted order(without replacement) is:\")\n",
        "print(list(combinations('AB', 2)))\n",
        "print()\n",
        "\n",
        "print (\"All the combination of list in sorted order(without replacement) is:\")\n",
        "print(list(combinations(range(2), 1)))\n"
      ],
      "metadata": {
        "colab": {
          "base_uri": "https://localhost:8080/"
        },
        "id": "9tkM4mNUqDj6",
        "outputId": "189468a7-eda4-454b-c76f-b337dab2704f"
      },
      "execution_count": 52,
      "outputs": [
        {
          "output_type": "stream",
          "name": "stdout",
          "text": [
            "All the combination of list in sorted order(without replacement) is:\n",
            "[('A', 2)]\n",
            "\n",
            "All the combination of string in sorted order(without replacement) is:\n",
            "[('A', 'B')]\n",
            "\n",
            "All the combination of list in sorted order(without replacement) is:\n",
            "[(0,), (1,)]\n"
          ]
        }
      ]
    },
    {
      "cell_type": "code",
      "source": [
        "from itertools import combinations_with_replacement\n",
        "\n",
        "print(\"All the combination of string in sorted order(with replacement) is:\")\n",
        "print(list(combinations_with_replacement(\"AB\", 3)))\n",
        "print()\n",
        "\n",
        "print(\"All the combination of list in sorted order(with replacement) is:\")\n",
        "print(list(combinations_with_replacement([1, 3], 3)))\n",
        "print()\n",
        "\n",
        "print(\"All the combination of container in sorted order(with replacement) is:\")\n",
        "print(list(combinations_with_replacement(range(3), 1)))\n"
      ],
      "metadata": {
        "colab": {
          "base_uri": "https://localhost:8080/"
        },
        "id": "GLnJmMyLqHNJ",
        "outputId": "711ab8ae-8bb2-41c1-9af6-792228a37e95"
      },
      "execution_count": 53,
      "outputs": [
        {
          "output_type": "stream",
          "name": "stdout",
          "text": [
            "All the combination of string in sorted order(with replacement) is:\n",
            "[('A', 'A', 'A'), ('A', 'A', 'B'), ('A', 'B', 'B'), ('B', 'B', 'B')]\n",
            "\n",
            "All the combination of list in sorted order(with replacement) is:\n",
            "[(1, 1, 1), (1, 1, 3), (1, 3, 3), (3, 3, 3)]\n",
            "\n",
            "All the combination of container in sorted order(with replacement) is:\n",
            "[(0,), (1,), (2,)]\n"
          ]
        }
      ]
    },
    {
      "cell_type": "code",
      "source": [
        "import itertools\n",
        "import operator\n",
        "\n",
        "li1 = [2,3,4,6]\n",
        "\n",
        "print(\"The sum after each iteration is : \", end=\"\")\n",
        "print(list(itertools.accumulate(li1)))\n",
        "\n",
        "\n",
        "print(\"The product after each iteration is : \", end=\"\")\n",
        "print(list(itertools.accumulate(li1, operator.mul)))\n",
        "\n",
        "\n",
        "print(\"The sum after each iteration is : \", end=\"\")\n",
        "print(list(itertools.accumulate(li1)))\n",
        "\n",
        "\n",
        "print(\"The product after each iteration is : \", end=\"\")\n",
        "print(list(itertools.accumulate(li1, operator.mul)))\n"
      ],
      "metadata": {
        "colab": {
          "base_uri": "https://localhost:8080/"
        },
        "id": "-e3j3VC0qKfH",
        "outputId": "3fabeba0-c805-4f45-83da-e29481f16a7b"
      },
      "execution_count": 54,
      "outputs": [
        {
          "output_type": "stream",
          "name": "stdout",
          "text": [
            "The sum after each iteration is : [2, 5, 9, 15]\n",
            "The product after each iteration is : [2, 6, 24, 144]\n",
            "The sum after each iteration is : [2, 5, 9, 15]\n",
            "The product after each iteration is : [2, 6, 24, 144]\n"
          ]
        }
      ]
    },
    {
      "cell_type": "code",
      "source": [
        "import itertools\n",
        "li1 = [1, 3,5,7]\n",
        "\n",
        "li2 = [1,3,4,6]\n",
        "\n",
        "li3 = [10,1,13,15]\n",
        "\n",
        "print(\"All values in mentioned chain are : \", end=\"\")\n",
        "print(list(itertools.chain(li1, li2, li3)))"
      ],
      "metadata": {
        "colab": {
          "base_uri": "https://localhost:8080/"
        },
        "id": "kGJocRU_qO3a",
        "outputId": "ddc731b5-945b-4c03-fbb4-f564a2653653"
      },
      "execution_count": 55,
      "outputs": [
        {
          "output_type": "stream",
          "name": "stdout",
          "text": [
            "All values in mentioned chain are : [1, 3, 5, 7, 1, 3, 4, 6, 10, 1, 13, 15]\n"
          ]
        }
      ]
    },
    {
      "cell_type": "code",
      "source": [
        "import itertools\n",
        "\n",
        "\n",
        "li1 = [1,3,4,5,]\n",
        "\n",
        "li2 = [1,4,5,6]\n",
        "\n",
        "li3 = [8,6,7,8]\n",
        "\n",
        "li4 = [li1, li2, li3]\n",
        "\n",
        "print (\"All values in mentioned chain are : \", end =\"\")\n",
        "print (list(itertools.chain.from_iterable(li4)))"
      ],
      "metadata": {
        "colab": {
          "base_uri": "https://localhost:8080/"
        },
        "id": "0co5MrwHqUze",
        "outputId": "d7103c77-4a68-4832-e8c7-47b3237dd69c"
      },
      "execution_count": 56,
      "outputs": [
        {
          "output_type": "stream",
          "name": "stdout",
          "text": [
            "All values in mentioned chain are : [1, 3, 4, 5, 1, 4, 5, 6, 8, 6, 7, 8]\n"
          ]
        }
      ]
    },
    {
      "cell_type": "code",
      "source": [
        "import itertools\n",
        "\n",
        "print(\"The compressed values in string are : \", end=\"\")\n",
        "print(list(itertools.compress('GEEKSFORGEEKS', [1, 0, 0, 0, 0, 1, 0, 0, 1, 0, 0, 0, 0])))\n"
      ],
      "metadata": {
        "colab": {
          "base_uri": "https://localhost:8080/"
        },
        "id": "a3VVPmI6qX05",
        "outputId": "a21e7697-a9aa-4c6b-b14b-1df2c37a00cf"
      },
      "execution_count": 57,
      "outputs": [
        {
          "output_type": "stream",
          "name": "stdout",
          "text": [
            "The compressed values in string are : ['G', 'F', 'G']\n"
          ]
        }
      ]
    },
    {
      "cell_type": "code",
      "source": [
        "import itertools\n",
        "\n",
        "li = [4,5,6,8,9]\n",
        "print (\"The values after condition returns false : \", end =\"\")\n",
        "print (list(itertools.dropwhile(lambda x : x % 2 == 0, li)))\n"
      ],
      "metadata": {
        "colab": {
          "base_uri": "https://localhost:8080/"
        },
        "id": "fFewEj7Tqksg",
        "outputId": "2df6d357-9b00-4be0-c814-1e369e7de596"
      },
      "execution_count": 58,
      "outputs": [
        {
          "output_type": "stream",
          "name": "stdout",
          "text": [
            "The values after condition returns false : [5, 6, 8, 9]\n"
          ]
        }
      ]
    },
    {
      "cell_type": "code",
      "source": [
        "import itertools\n",
        "li = [2, 4, 5, 7, 8]\n",
        "print (\"The values after condition returns false : \", end =\"\")\n",
        "print (list(itertools.dropwhile(lambda x : x % 2 == 0, li)))\n"
      ],
      "metadata": {
        "colab": {
          "base_uri": "https://localhost:8080/"
        },
        "id": "85FLR6vLqpDd",
        "outputId": "6d829fef-e1e7-42b7-b75d-0b8542ffbd6d"
      },
      "execution_count": 59,
      "outputs": [
        {
          "output_type": "stream",
          "name": "stdout",
          "text": [
            "The values after condition returns false : [5, 7, 8]\n"
          ]
        }
      ]
    },
    {
      "cell_type": "code",
      "source": [
        "import itertools\n",
        "\n",
        "li = [2, 4, 5, 7, 8]\n",
        "\n",
        "print (\"The values that return false to function are : \", end =\"\")\n",
        "print (list(itertools.filterfalse(lambda x : x % 2 == 0, li)))\n"
      ],
      "metadata": {
        "colab": {
          "base_uri": "https://localhost:8080/"
        },
        "id": "qU9-Tkxfqr8-",
        "outputId": "ca84e016-ef84-44bb-bf3c-5f833d0fcd6e"
      },
      "execution_count": 60,
      "outputs": [
        {
          "output_type": "stream",
          "name": "stdout",
          "text": [
            "The values that return false to function are : [5, 7]\n"
          ]
        }
      ]
    },
    {
      "cell_type": "code",
      "source": [
        "import itertools\n",
        "li = [2,4,6,7,8,9,10,30]\n",
        "print (\"The sliced list values are : \", end =\"\")\n",
        "print (list(itertools.islice(li, 1, 6, 2)))\n"
      ],
      "metadata": {
        "colab": {
          "base_uri": "https://localhost:8080/"
        },
        "id": "34zMWvsuqukJ",
        "outputId": "6003c87e-8a8d-4de3-ff0d-9040511f9826"
      },
      "execution_count": 61,
      "outputs": [
        {
          "output_type": "stream",
          "name": "stdout",
          "text": [
            "The sliced list values are : [4, 7, 9]\n"
          ]
        }
      ]
    },
    {
      "cell_type": "code",
      "source": [
        "import itertools\n",
        "\n",
        "li = [ (1, 10, 5), (8, 4, 1), (5, 5, 9), (11, 37, 1) ]\n",
        "\n",
        "print (\"The values acc. to function are : \", end =\"\")\n",
        "print (list(itertools.starmap(min, li)))\n"
      ],
      "metadata": {
        "colab": {
          "base_uri": "https://localhost:8080/"
        },
        "id": "3POUtYkWqw-g",
        "outputId": "b2a1d0b1-4b25-4168-9948-5b722547fde0"
      },
      "execution_count": 62,
      "outputs": [
        {
          "output_type": "stream",
          "name": "stdout",
          "text": [
            "The values acc. to function are : [1, 1, 5, 1]\n"
          ]
        }
      ]
    },
    {
      "cell_type": "code",
      "source": [
        "import itertools\n",
        "\n",
        "li = [2, 4, 6, 7, 8, 10, 20, 30]\n",
        "print (\"The list values till 1st false value are : \", end =\"\")\n",
        "print (list(itertools.takewhile(lambda x : x % 2 == 0, li )))\n"
      ],
      "metadata": {
        "colab": {
          "base_uri": "https://localhost:8080/"
        },
        "id": "BsxQyCUvq0dX",
        "outputId": "0edd851f-d956-4b08-ec48-d2547a3dbee8"
      },
      "execution_count": 63,
      "outputs": [
        {
          "output_type": "stream",
          "name": "stdout",
          "text": [
            "The list values till 1st false value are : [2, 4, 6]\n"
          ]
        }
      ]
    },
    {
      "cell_type": "code",
      "source": [
        "import itertools\n",
        "\n",
        "li = [2, 4, 6, 7, 8, 10, 20]\n",
        "\n",
        "iti = iter(li)\n",
        "\n",
        "it = itertools.tee(iti, 3)\n",
        "\n",
        "print(\"The iterators are : \")\n",
        "for i in range(0, 3):\n",
        "\tprint(list(it[i]))\n"
      ],
      "metadata": {
        "colab": {
          "base_uri": "https://localhost:8080/"
        },
        "id": "vEUO-xRlq3DP",
        "outputId": "940d27a9-d450-49af-e89d-83774833ee8b"
      },
      "execution_count": 64,
      "outputs": [
        {
          "output_type": "stream",
          "name": "stdout",
          "text": [
            "The iterators are : \n",
            "[2, 4, 6, 7, 8, 10, 20]\n",
            "[2, 4, 6, 7, 8, 10, 20]\n",
            "[2, 4, 6, 7, 8, 10, 20]\n"
          ]
        }
      ]
    },
    {
      "cell_type": "code",
      "source": [
        "import itertools\n",
        "\n",
        "print(\"The combined values of iterables is : \")\n",
        "print(*(itertools.zip_longest('Peiec', 'rsdny', fillvalue='_')))\n"
      ],
      "metadata": {
        "colab": {
          "base_uri": "https://localhost:8080/"
        },
        "id": "E3iuzrVmq4-1",
        "outputId": "801d1b2e-8761-4ba3-97a5-78dec44db1c4"
      },
      "execution_count": 65,
      "outputs": [
        {
          "output_type": "stream",
          "name": "stdout",
          "text": [
            "The combined values of iterables is : \n",
            "('P', 'r') ('e', 's') ('i', 'd') ('e', 'n') ('c', 'y')\n"
          ]
        }
      ]
    },
    {
      "cell_type": "code",
      "source": [],
      "metadata": {
        "id": "3Dae0A2Jq7iQ"
      },
      "execution_count": null,
      "outputs": []
    }
  ]
}